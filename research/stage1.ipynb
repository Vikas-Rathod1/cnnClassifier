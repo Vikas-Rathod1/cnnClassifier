{
 "cells": [
  {
   "cell_type": "code",
   "execution_count": null,
   "metadata": {},
   "outputs": [],
   "source": []
  },
  {
   "cell_type": "markdown",
   "metadata": {},
   "source": [
    "Data Ingestion stage"
   ]
  },
  {
   "cell_type": "code",
   "execution_count": 1,
   "metadata": {},
   "outputs": [],
   "source": [
    "\n",
    "from collections import namedtuple\n",
    "import os"
   ]
  },
  {
   "cell_type": "code",
   "execution_count": 2,
   "metadata": {},
   "outputs": [
    {
     "data": {
      "text/plain": [
       "'/home/vikasrathod/vikasr/Courses_vikas_data/CV_Project/cnnClassifier/research'"
      ]
     },
     "execution_count": 2,
     "metadata": {},
     "output_type": "execute_result"
    }
   ],
   "source": [
    "%pwd"
   ]
  },
  {
   "cell_type": "code",
   "execution_count": 3,
   "metadata": {},
   "outputs": [],
   "source": [
    "os.chdir(\"../\")"
   ]
  },
  {
   "cell_type": "code",
   "execution_count": 4,
   "metadata": {},
   "outputs": [
    {
     "data": {
      "text/plain": [
       "'/home/vikasrathod/vikasr/Courses_vikas_data/CV_Project/cnnClassifier'"
      ]
     },
     "execution_count": 4,
     "metadata": {},
     "output_type": "execute_result"
    }
   ],
   "source": [
    "%pwd"
   ]
  },
  {
   "cell_type": "code",
   "execution_count": 5,
   "metadata": {},
   "outputs": [],
   "source": [
    "DataIngestionConfig = namedtuple(\"DataIngestionConfig\", [\n",
    "    \"root_dir\",\n",
    "    \"source_URL\",\n",
    "    \"local_data_file\",\n",
    "    \"unzip_dir\"\n",
    "])"
   ]
  },
  {
   "cell_type": "code",
   "execution_count": 15,
   "metadata": {},
   "outputs": [
    {
     "data": {
      "text/plain": [
       "__main__.DataIngestionConfig"
      ]
     },
     "execution_count": 15,
     "metadata": {},
     "output_type": "execute_result"
    }
   ],
   "source": [
    "DataIngestionConfig"
   ]
  },
  {
   "cell_type": "code",
   "execution_count": 6,
   "metadata": {},
   "outputs": [],
   "source": [
    "#config_entity.py\n",
    "from dataclasses import dataclass\n",
    "from pathlib import Path\n",
    "\n",
    "\n",
    "@dataclass(frozen=True)\n",
    "class DataIngestionConfig:\n",
    "    root_dir: Path\n",
    "    source_URL: str\n",
    "    local_data_file: Path\n",
    "    unzip_dir: Path"
   ]
  },
  {
   "cell_type": "code",
   "execution_count": 7,
   "metadata": {},
   "outputs": [],
   "source": [
    "from cnnClassifier.constants import *\n",
    "from cnnClassifier.utils import read_yaml, create_directories"
   ]
  },
  {
   "cell_type": "code",
   "execution_count": 8,
   "metadata": {},
   "outputs": [],
   "source": [
    "#configuration.py\n",
    "class ConfigurationManager:\n",
    "    def __init__(\n",
    "        self,\n",
    "        config_filepath = CONFIG_FILE_PATH,\n",
    "        params_filepath = PARAMS_FILE_PATH):\n",
    "\n",
    "        self.config = read_yaml(config_filepath)\n",
    "        self.params = read_yaml(params_filepath)\n",
    "\n",
    "        create_directories([self.config.artifacts_root])\n",
    "\n",
    "    \n",
    "    def get_data_ingestion_config(self) -> DataIngestionConfig:\n",
    "        config = self.config.data_ingestion\n",
    "\n",
    "        create_directories([config.root_dir])\n",
    "\n",
    "        data_ingestion_config = DataIngestionConfig(\n",
    "            root_dir=config.root_dir,\n",
    "            source_URL=config.source_URL,\n",
    "            local_data_file=config.local_data_file,\n",
    "            unzip_dir=config.unzip_dir \n",
    "        )\n",
    "\n",
    "        return data_ingestion_config"
   ]
  },
  {
   "cell_type": "code",
   "execution_count": 9,
   "metadata": {},
   "outputs": [],
   "source": [
    "# import os\n",
    "# import urllib.request as request\n",
    "# from zipfile import ZipFile"
   ]
  },
  {
   "cell_type": "code",
   "execution_count": 26,
   "metadata": {},
   "outputs": [
    {
     "name": "stdout",
     "output_type": "stream",
     "text": [
      "[2024-12-19 16:11:31,708: INFO: common: yaml file: config/config.yaml loaded successfully]\n",
      "[2024-12-19 16:11:31,710: INFO: common: yaml file: params.yaml loaded successfully]\n",
      "[2024-12-19 16:11:31,711: INFO: common: created directory at: artifacts]\n",
      "[2024-12-19 16:11:31,713: INFO: common: created directory at: artifacts/data_ingestion]\n",
      "Extracting Classificationdata/test/men/136.jpg...\n",
      "Extracting Classificationdata/test/women/119.jpg...\n",
      "Extracting Classificationdata/train/men/0.jpg...\n",
      "Extracting Classificationdata/train/men/2.jpg...\n",
      "Extracting Classificationdata/train/men/3.jpg...\n",
      "Extracting Classificationdata/train/women/10.jpg...\n",
      "Extracting Classificationdata/train/women/6.jpg...\n",
      "Extracting Classificationdata/train/women/9.jpg...\n",
      "Unzipping and cleaning completed.\n"
     ]
    }
   ],
   "source": [
    "#data_ingestion.py\n",
    "import os\n",
    "from urllib import request\n",
    "from zipfile import ZipFile, BadZipFile, is_zipfile\n",
    "\n",
    "\n",
    "class DataIngestion:\n",
    "    def __init__(self, config: DataIngestionConfig):\n",
    "        self.config = config\n",
    "\n",
    "    def download_file(self):\n",
    "        # Check if the local zip file already exists\n",
    "        if not os.path.exists(self.config.local_data_file):\n",
    "            print(f\"Downloading file from {self.config.source_URL}...\")\n",
    "            try:\n",
    "                # Download the zip file from the GitHub raw URL\n",
    "                filename, headers = request.urlretrieve(\n",
    "                    url=self.config.source_URL,\n",
    "                    filename=self.config.local_data_file\n",
    "                )\n",
    "                print(f\"File downloaded to {self.config.local_data_file}\")\n",
    "            except Exception as e:\n",
    "                print(f\"Error downloading file: {e}\")\n",
    "\n",
    "    def _get_updated_list_of_files(self, list_of_files):\n",
    "        # Filter files based on your criteria (e.g., .jpg files with \"men\" or \"women\" in the name)\n",
    "        return [f for f in list_of_files if f.endswith(\".jpg\") and (\"men\" in f or \"women\" in f)]\n",
    "\n",
    "    def _preprocess(self, zf: ZipFile, f: str, working_dir: str):\n",
    "        # Define the target file path\n",
    "        target_filepath = os.path.join(working_dir, f)\n",
    "        \n",
    "        # Extract the file if it doesn't exist already\n",
    "        if not os.path.exists(target_filepath):\n",
    "            try:\n",
    "                print(f\"Extracting {f}...\")\n",
    "                zf.extract(f, working_dir)\n",
    "            except Exception as e:\n",
    "                print(f\"Error extracting file {f}: {e}\")\n",
    "                return\n",
    "        \n",
    "        # Remove empty files\n",
    "        if os.path.getsize(target_filepath) == 0:\n",
    "            print(f\"Removing empty file {target_filepath}...\")\n",
    "            os.remove(target_filepath)\n",
    "\n",
    "    def unzip_and_clean(self):\n",
    "        # Check if the local zip file exists\n",
    "        if not os.path.exists(self.config.local_data_file):\n",
    "            print(f\"Local zip file not found at {self.config.local_data_file}\")\n",
    "            return\n",
    "        \n",
    "        # Check if the file is a valid zip file\n",
    "        if not is_zipfile(self.config.local_data_file):\n",
    "            print(f\"Error: The file {self.config.local_data_file} is not a valid zip file.\")\n",
    "            return\n",
    "        \n",
    "        try:\n",
    "            # Open the zip file\n",
    "            with ZipFile(file=self.config.local_data_file, mode=\"r\") as zf:\n",
    "                list_of_files = zf.namelist()\n",
    "                updated_list_of_files = self._get_updated_list_of_files(list_of_files)\n",
    "                \n",
    "                # Preprocess each file in the updated list\n",
    "                for f in updated_list_of_files:\n",
    "                    self._preprocess(zf, f, self.config.unzip_dir)  # type: ignore\n",
    "                print(\"Unzipping and cleaning completed.\")\n",
    "        except BadZipFile:\n",
    "            print(f\"Error: The file {self.config.local_data_file} is not a valid zip file.\")\n",
    "        except Exception as e:\n",
    "            print(f\"Error during unzip and clean process: {e}\")\n",
    "\n",
    "\n",
    "\n",
    "\n",
    "\n",
    "\n",
    "\n",
    "\n",
    "\n",
    "\n",
    "\n",
    "\n",
    "#Training_pipeline.py\n",
    "# Example usage\n",
    "try:\n",
    "    config = ConfigurationManager()\n",
    "    data_ingestion_config = config.get_data_ingestion_config()\n",
    "    data_ingestion = DataIngestion(config=data_ingestion_config)\n",
    "    \n",
    "    # Download the zip file\n",
    "    data_ingestion.download_file()\n",
    "    \n",
    "    # Unzip and clean the files\n",
    "    data_ingestion.unzip_and_clean()\n",
    "except Exception as e:\n",
    "    print(f\"An error occurred: {e}\")\n"
   ]
  },
  {
   "cell_type": "code",
   "execution_count": null,
   "metadata": {},
   "outputs": [],
   "source": []
  }
 ],
 "metadata": {
  "kernelspec": {
   "display_name": "env",
   "language": "python",
   "name": "python3"
  },
  "language_info": {
   "codemirror_mode": {
    "name": "ipython",
    "version": 3
   },
   "file_extension": ".py",
   "mimetype": "text/x-python",
   "name": "python",
   "nbconvert_exporter": "python",
   "pygments_lexer": "ipython3",
   "version": "3.12.3"
  }
 },
 "nbformat": 4,
 "nbformat_minor": 2
}
